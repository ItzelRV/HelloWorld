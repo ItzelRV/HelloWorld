{
 "cells": [
  {
   "cell_type": "markdown",
   "metadata": {},
   "source": [
    "# <font color= green> Presentación: Itzel </font>"
   ]
  },
  {
   "cell_type": "markdown",
   "metadata": {},
   "source": [
    "<img style=\"float: right; margin: 0px 0px 15px 15px;\" src=\"https://scontent.fgdl5-1.fna.fbcdn.net/v/t1.0-9/16194901_1318143391576179_4908018091909736331_n.jpg?_nc_cat=0&oh=ca14417cc5caa185b3fda48b65a2fc41&oe=5BC50A43\" width=\"300px\" height=\"100px\" />"
   ]
  },
  {
   "cell_type": "markdown",
   "metadata": {},
   "source": [
    "## Mi nombre es Itzel Ramírez Velazco, yo vengo de un pueblo llamado <font color= green> Cocula </font> , aquí mismo en Jalisco. Actualmente tengo 20 años de edad y estudio la carrera de <font color= blue> Ingeniería en Nanotecnología</font>"
   ]
  },
  {
   "cell_type": "markdown",
   "metadata": {},
   "source": [
    "### Me gusta mucho escuchar música (mi preferida es el rock), me encanta hacer pasteles y comerlos, disfruto mucho estar con las personas que quiero y mi rancho me parece el lugar más bonito del mundo."
   ]
  },
  {
   "cell_type": "markdown",
   "metadata": {},
   "source": [
    "   ##### -También me gusta ir al gimnasio, pero prefiero estar en mi <font color= red> cama </font>"
   ]
  },
  {
   "cell_type": "markdown",
   "metadata": {},
   "source": [
    "### El nombre de mi perro es _Buddy_ y lo quiero un montón"
   ]
  }
 ],
 "metadata": {
  "kernelspec": {
   "display_name": "Python 3",
   "language": "python",
   "name": "python3"
  },
  "language_info": {
   "codemirror_mode": {
    "name": "ipython",
    "version": 3
   },
   "file_extension": ".py",
   "mimetype": "text/x-python",
   "name": "python",
   "nbconvert_exporter": "python",
   "pygments_lexer": "ipython3",
   "version": "3.6.4"
  }
 },
 "nbformat": 4,
 "nbformat_minor": 2
}
